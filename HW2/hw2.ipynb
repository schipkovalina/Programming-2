{
 "cells": [
  {
   "cell_type": "code",
   "execution_count": 111,
   "metadata": {},
   "outputs": [],
   "source": [
    "import urllib.request\n",
    "import json\n",
    "\n",
    "users = \"elmiram, maryszmary, lizaku, nevmenandr, ancatmara, roctbb, akutuzov, agricolamz, lehkost, kylepjohnson\"\n",
    "token = 'ef95251f796952c7aea217c7865bd25f4c42cffa'  \n",
    "headers = {'apikey': 'token %s' % token}\n",
    "\n",
    "#Программа выбирает одного пользователя из списка\n",
    "def choose_user():\n",
    "    githubuser = input('Введите имя пользователя: ')\n",
    "    while True:\n",
    "        if githubuser in users.split(', '):\n",
    "            print('\\nВы выбрали пользователя ' + githubuser + '.')\n",
    "            break\n",
    "        else:\n",
    "            print('\\nПользователя ' + githubuser + ' нет в списке.')\n",
    "            githubuser = input('Введите имя пользователя: ')\n",
    "            \n",
    "    return githubuser               "
   ]
  },
  {
   "cell_type": "code",
   "execution_count": 112,
   "metadata": {},
   "outputs": [],
   "source": [
    "def get_repos(user):\n",
    "    url = 'https://api.github.com/users/%s/repos' % user\n",
    "    request = urllib.request.Request(url, headers=headers)\n",
    "    response = urllib.request.urlopen(request)\n",
    "    text = response.read().decode('utf-8')\n",
    "    data = json.loads(text)\n",
    "    return data\n",
    "\n",
    "#Программа распечатывает список репозиториев пользователя и их описания\n",
    "def repo_info(data):\n",
    "    print('\\nВот список его репозиториев: ')\n",
    "    for i in data:\n",
    "        print('{} : {}'.format(i[\"name\"], i[\"description\"]), end=',\\n')\n",
    "    return data\n",
    "\n",
    "#Распечатывает список языков пользователяи количество репозиториев, в которых они используются\n",
    "def repo_lang(data):\n",
    "    languages = {}\n",
    "    for i in data:\n",
    "        if i[\"language\"] in languages:\n",
    "            languages[i[\"language\"]].append(i[\"name\"])\n",
    "        else:\n",
    "            languages[i[\"language\"]] = []\n",
    "            languages[i[\"language\"]].append(i[\"name\"]) \n",
    "    n = 0        \n",
    "    print('\\nПользователь {} пишет на: '.format(i[\"full_name\"].split('/')[0]), end='')\n",
    "    for key, value in languages.items():\n",
    "        n += 1\n",
    "        if n == len(languages):\n",
    "               print(key, end='. \\n\\n')\n",
    "        else:\n",
    "            print(key, end=', ')\n",
    "    for key, value in languages.items():\n",
    "        if len(value) == 1:\n",
    "            print('Язык {} используется в {} репозитории.'.format(key, len(value)))\n",
    "        else:\n",
    "            print('Язык {} используется в {} репозиториях.'.format(key, len(value)))"
   ]
  },
  {
   "cell_type": "code",
   "execution_count": 113,
   "metadata": {},
   "outputs": [],
   "source": [
    "#Программа узнает, у кого больше всего репозиториев\n",
    "def count_repos():\n",
    "    repo = {}\n",
    "    for i in users.split(', '):\n",
    "        data = get_repos(i)\n",
    "        repo[i] = len(data)\n",
    "        for key, repos in repo.items():\n",
    "            if repos == max(repo.values()):\n",
    "                print(\"\\nСамое большое количество репозиториев у пользователя {}\".format(key), '.')       \n",
    "       "
   ]
  },
  {
   "cell_type": "code",
   "execution_count": null,
   "metadata": {},
   "outputs": [],
   "source": [
    "def main():\n",
    "    return repo_lang(repo_info(get_repos(choose_user()))), count_repos()\n",
    "\n",
    "if __name__ == \"__main__\":\n",
    "    main() "
   ]
  }
 ],
 "metadata": {
  "kernelspec": {
   "display_name": "Python 3",
   "language": "python",
   "name": "python3"
  },
  "language_info": {
   "codemirror_mode": {
    "name": "ipython",
    "version": 3
   },
   "file_extension": ".py",
   "mimetype": "text/x-python",
   "name": "python",
   "nbconvert_exporter": "python",
   "pygments_lexer": "ipython3",
   "version": "3.6.5"
  }
 },
 "nbformat": 4,
 "nbformat_minor": 2
}
